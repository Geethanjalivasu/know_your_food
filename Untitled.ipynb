{
 "cells": [
  {
   "cell_type": "code",
   "execution_count": 1,
   "id": "348c5a70",
   "metadata": {},
   "outputs": [
    {
     "name": "stdout",
     "output_type": "stream",
     "text": [
      "Collecting git+https://github.com/Kaggle/kaggle-api.git\n",
      "  Cloning https://github.com/Kaggle/kaggle-api.git to /private/var/folders/4k/hv42_gq54tx89cczd9v0wf7h0000gn/T/pip-req-build-4804t7p0\n",
      "  Running command git clone -q https://github.com/Kaggle/kaggle-api.git /private/var/folders/4k/hv42_gq54tx89cczd9v0wf7h0000gn/T/pip-req-build-4804t7p0\n",
      "Requirement already satisfied: six>=1.10 in /opt/anaconda3/envs/discord_bot/lib/python3.8/site-packages (from kaggle==1.5.12) (1.15.0)\n",
      "Requirement already satisfied: certifi in /opt/anaconda3/envs/discord_bot/lib/python3.8/site-packages (from kaggle==1.5.12) (2021.10.8)\n",
      "Requirement already satisfied: python-dateutil in /opt/anaconda3/envs/discord_bot/lib/python3.8/site-packages (from kaggle==1.5.12) (2.8.1)\n",
      "Requirement already satisfied: requests in /opt/anaconda3/envs/discord_bot/lib/python3.8/site-packages (from kaggle==1.5.12) (2.27.1)\n",
      "Requirement already satisfied: tqdm in /opt/anaconda3/envs/discord_bot/lib/python3.8/site-packages (from kaggle==1.5.12) (4.59.0)\n",
      "Collecting python-slugify\n",
      "  Downloading python_slugify-6.1.1-py2.py3-none-any.whl (9.1 kB)\n",
      "Requirement already satisfied: urllib3 in /opt/anaconda3/envs/discord_bot/lib/python3.8/site-packages (from kaggle==1.5.12) (1.26.4)\n",
      "Collecting text-unidecode>=1.3\n",
      "  Downloading text_unidecode-1.3-py2.py3-none-any.whl (78 kB)\n",
      "\u001b[K     |████████████████████████████████| 78 kB 853 kB/s eta 0:00:011\n",
      "\u001b[?25hRequirement already satisfied: idna<4,>=2.5 in /opt/anaconda3/envs/discord_bot/lib/python3.8/site-packages (from requests->kaggle==1.5.12) (2.10)\n",
      "Requirement already satisfied: charset-normalizer~=2.0.0 in /opt/anaconda3/envs/discord_bot/lib/python3.8/site-packages (from requests->kaggle==1.5.12) (2.0.12)\n",
      "Building wheels for collected packages: kaggle\n",
      "  Building wheel for kaggle (setup.py) ... \u001b[?25ldone\n",
      "\u001b[?25h  Created wheel for kaggle: filename=kaggle-1.5.12-py3-none-any.whl size=78785 sha256=23fbdcec3b6169445f5b903a63b7e77bda7c11d9cec12ad06999c67c5f2407ce\n",
      "  Stored in directory: /private/var/folders/4k/hv42_gq54tx89cczd9v0wf7h0000gn/T/pip-ephem-wheel-cache-c3b13cji/wheels/1c/c2/54/f49b7d1744620f4b8f4c3ef9a127dff233c394eaaafa154703\n",
      "Successfully built kaggle\n",
      "Installing collected packages: text-unidecode, python-slugify, kaggle\n",
      "Successfully installed kaggle-1.5.12 python-slugify-6.1.1 text-unidecode-1.3\n",
      "Downloading fruits.zip to /Users/geethanjalivasudevan/Documents/nutritional_cnn\n",
      "  2%|▌                                      | 21.0M/1.28G [00:24<24:04, 940kB/s]^C\n",
      "  2%|▌                                      | 21.0M/1.28G [00:25<26:39, 849kB/s]\n",
      "User cancelled operation\n",
      "Archive:  fruits.zip\n",
      "  End-of-central-directory signature not found.  Either this file is not\n",
      "  a zipfile, or it constitutes one disk of a multi-part archive.  In the\n",
      "  latter case the central directory and zipfile comment will be found on\n",
      "  the last disk(s) of this archive.\n",
      "unzip:  cannot find zipfile directory in one of fruits.zip or\n",
      "        fruits.zip.zip, and cannot find fruits.zip.ZIP, period.\n"
     ]
    }
   ],
   "source": [
    "username = \"anjali21\"\n",
    "#please add the key\n",
    "key =\"5e68ade6bc00c94ae2e225b845c4be8c\"\n",
    "!pip install git+https://github.com/Kaggle/kaggle-api.git --upgrade\n",
    "import os\n",
    "credentials = {\"username\":username,\"key\":key}\n",
    "os.environ['KAGGLE_USERNAME']=credentials[\"username\"]\n",
    "os.environ['KAGGLE_KEY']=credentials[\"key\"]\n",
    "!kaggle datasets download -d moltean/fruits\n",
    "!unzip fruits.zip"
   ]
  },
  {
   "cell_type": "code",
   "execution_count": null,
   "id": "eb3c8dd7",
   "metadata": {},
   "outputs": [],
   "source": []
  }
 ],
 "metadata": {
  "kernelspec": {
   "display_name": "Python 3",
   "language": "python",
   "name": "python3"
  },
  "language_info": {
   "codemirror_mode": {
    "name": "ipython",
    "version": 3
   },
   "file_extension": ".py",
   "mimetype": "text/x-python",
   "name": "python",
   "nbconvert_exporter": "python",
   "pygments_lexer": "ipython3",
   "version": "3.8.8"
  }
 },
 "nbformat": 4,
 "nbformat_minor": 5
}
