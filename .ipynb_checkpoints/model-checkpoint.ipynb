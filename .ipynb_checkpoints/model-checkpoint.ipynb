{
 "cells": [
  {
   "cell_type": "code",
   "execution_count": null,
   "metadata": {
    "id": "lRcFRYL2l7gE"
   },
   "outputs": [],
   "source": [
    "# username = \"anjali21\"\n",
    "# #please add the key\n",
    "# key =\"\"\n",
    "# !pip install git+https://github.com/Kaggle/kaggle-api.git --upgrade\n",
    "# import os\n",
    "# credentials = {\"username\":username,\"key\":key}\n",
    "# os.environ['KAGGLE_USERNAME']=credentials[\"username\"]\n",
    "# os.environ['KAGGLE_KEY']=credentials[\"key\"]\n",
    "# !kaggle datasets download -d moltean/fruits\n",
    "# !unzip fruits.zip"
   ]
  },
  {
   "cell_type": "code",
   "execution_count": null,
   "metadata": {
    "id": "I-LvdVrUmfhm"
   },
   "outputs": [],
   "source": [
    "import os\n",
    "import torch\n",
    "import torchvision\n",
    "import tarfile\n",
    "import torch.nn as nn\n",
    "import numpy as np\n",
    "import torch.nn.functional as F\n",
    "from torchvision.datasets.utils import download_url\n",
    "from torchvision.datasets import ImageFolder\n",
    "from torch.utils.data import DataLoader\n",
    "import torchvision.transforms as tt\n",
    "from torch.utils.data import random_split\n",
    "from torchvision.utils import make_grid\n",
    "import matplotlib.pyplot as plt\n",
    "%matplotlib inline\n",
    "from tqdm.notebook import tqdm\n",
    "import torchvision.models as models"
   ]
  },
  {
   "cell_type": "code",
   "execution_count": null,
   "metadata": {
    "id": "ZRm2_fso14Ik"
   },
   "outputs": [],
   "source": [
    "# Load the directory paths to the dataset\n",
    "\n",
    "DATA_DIR = './archive/fruits-360_dataset/fruits-360'\n",
    "# DATA_DIR = '../input/fruits/fruits-360'\n",
    "TRAIN_DIR = DATA_DIR + '/Training'\n",
    "TEST_DIR = DATA_DIR + '/Test'"
   ]
  },
  {
   "cell_type": "code",
   "execution_count": null,
   "metadata": {
    "id": "YO0OA_txAaBZ"
   },
   "outputs": [],
   "source": [
    "train_tfms = tt.Compose([tt.RandomCrop(100, padding=10, padding_mode='reflect'), \n",
    "                         tt.RandomHorizontalFlip(),\n",
    "                         tt.RandomRotation(20),\n",
    "                         tt.ToTensor()\n",
    "                         ])\n",
    "valid_tfms = tt.Compose([tt.ToTensor()])"
   ]
  },
  {
   "cell_type": "code",
   "execution_count": null,
   "metadata": {
    "id": "RaSl6O5CAbiJ"
   },
   "outputs": [],
   "source": [
    "train_ds = ImageFolder(TRAIN_DIR, train_tfms)\n",
    "valid_ds = ImageFolder(TEST_DIR, valid_tfms)"
   ]
  },
  {
   "cell_type": "code",
   "execution_count": null,
   "metadata": {
    "id": "XvFsTGkMCKot"
   },
   "outputs": [],
   "source": [
    "batch_size_custom = 4  \n",
    "batch_size_resnet = 4#32  \n",
    "random_seed = 32\n",
    "torch.manual_seed(random_seed);"
   ]
  },
  {
   "cell_type": "code",
   "execution_count": null,
   "metadata": {
    "id": "yOyRMgn6DOP8"
   },
   "outputs": [],
   "source": [
    "# DataLoaders for Custom CNN Model\n",
    "train_dl_custom = DataLoader(train_ds, batch_size_custom, shuffle=True, num_workers=3, pin_memory=True)\n",
    "valid_dl_custom = DataLoader(valid_ds, batch_size_custom*2, num_workers=3, pin_memory=True)"
   ]
  },
  {
   "cell_type": "code",
   "execution_count": null,
   "metadata": {
    "id": "tvwK6sp_F--7"
   },
   "outputs": [],
   "source": [
    "# DataLoaders for ResNet CNN Model\n",
    "train_dl_resnet = DataLoader(train_ds, batch_size_resnet, shuffle=True, num_workers=3, pin_memory=True)\n",
    "valid_dl_resnet = DataLoader(valid_ds, batch_size_resnet*2, num_workers=3, pin_memory=True)"
   ]
  },
  {
   "cell_type": "code",
   "execution_count": null,
   "metadata": {
    "id": "k-BeGUYwFNVs"
   },
   "outputs": [],
   "source": [
    "def get_default_device():\n",
    "    \"\"\"Pick GPU if available, else CPU\"\"\"\n",
    "    if torch.cuda.is_available():\n",
    "        return torch.device('cuda')\n",
    "    else:\n",
    "        return torch.device('cpu')\n",
    "    \n",
    "def to_device(data, device):\n",
    "    \"\"\"Move tensor(s) to chosen device\"\"\"\n",
    "    if isinstance(data, (list,tuple)):\n",
    "        return [to_device(x, device) for x in data]\n",
    "    return data.to(device, non_blocking=True)\n",
    "\n",
    "class DeviceDataLoader():\n",
    "    \"\"\"Wrap a dataloader to move data to a device\"\"\"\n",
    "    def __init__(self, dl, device):\n",
    "        self.dl = dl\n",
    "        self.device = device\n",
    "        \n",
    "    def __iter__(self):\n",
    "        \"\"\"Yield a batch of data after moving it to device\"\"\"\n",
    "        for b in self.dl: \n",
    "            yield to_device(b, self.device)\n",
    "\n",
    "    def __len__(self):\n",
    "        \"\"\"Number of batches\"\"\"\n",
    "        return len(self.dl)"
   ]
  },
  {
   "cell_type": "code",
   "execution_count": null,
   "metadata": {
    "id": "L2JnvXRNFSYE"
   },
   "outputs": [],
   "source": [
    "device = get_default_device()\n",
    "device"
   ]
  },
  {
   "cell_type": "code",
   "execution_count": null,
   "metadata": {
    "id": "dd6_HPE-Fkaf"
   },
   "outputs": [],
   "source": [
    "# Device Data Loader for Custom CNN Model\n",
    "train_dl_custom = DeviceDataLoader(train_dl_custom, device)\n",
    "valid_dl_custom = DeviceDataLoader(valid_dl_custom, device)"
   ]
  },
  {
   "cell_type": "code",
   "execution_count": null,
   "metadata": {
    "id": "pSs_IPZtF7hm"
   },
   "outputs": [],
   "source": [
    "# Device Data Loader for Custom CNN Model\n",
    "train_dl_resnet = DeviceDataLoader(train_dl_resnet, device)\n",
    "valid_dl_resnet = DeviceDataLoader(valid_dl_resnet, device)"
   ]
  },
  {
   "cell_type": "code",
   "execution_count": null,
   "metadata": {
    "id": "QbiGlTXVUqz_"
   },
   "outputs": [],
   "source": [
    "def accuracy(outputs, labels):\n",
    "    _, preds = torch.max(outputs, dim=1)\n",
    "    return torch.tensor(torch.sum(preds == labels).item() / len(preds))\n",
    "\n",
    "class ImageClassificationBase(nn.Module):\n",
    "    def training_step(self, batch):\n",
    "        images, labels = batch \n",
    "        out = self(images)                      \n",
    "        loss = F.cross_entropy(out, labels)                  \n",
    "        return loss\n",
    "    \n",
    "    def validation_step(self, batch):\n",
    "        images, labels = batch \n",
    "        out = self(images)                              \n",
    "        loss = F.cross_entropy(out, labels)                 \n",
    "        acc = accuracy(out, labels)                          \n",
    "        return {'val_loss': loss.detach(),  'val_acc': acc}\n",
    "        \n",
    "    def validation_epoch_end(self, outputs):\n",
    "        batch_losses = [x['val_loss'] for x in outputs]\n",
    "        epoch_loss = torch.stack(batch_losses).mean()       \n",
    "        batch_accs = [x['val_acc'] for x in outputs]\n",
    "        epoch_acc = torch.stack(batch_accs).mean()           \n",
    "        return {'val_loss': epoch_loss.item(), 'val_acc': epoch_acc.item()}\n",
    "    \n",
    "    def epoch_end(self, epoch, result):\n",
    "        print(\"Epoch [{}], last_lr: {:.10f}, train_loss: {:.4f}, val_loss: {:.4f}, val_acc: {:.4f}\".format(\n",
    "            epoch, result['lrs'][-1], result['train_loss'], result['val_loss'], result['val_acc']))"
   ]
  },
  {
   "cell_type": "code",
   "execution_count": null,
   "metadata": {
    "id": "sU7whYm9U2xD"
   },
   "outputs": [],
   "source": [
    "def conv_block(in_channels, out_channels, pool=False):\n",
    "    layers = [nn.Conv2d(in_channels, out_channels, kernel_size=3, padding=1), \n",
    "              nn.BatchNorm2d(out_channels),     \n",
    "              nn.ReLU(inplace=True)]\n",
    "    if pool: layers.append(nn.MaxPool2d(2))\n",
    "    return nn.Sequential(*layers)\n",
    "\n",
    "class CustomCNN(ImageClassificationBase):\n",
    "    def __init__(self, in_channels, num_classes):\n",
    "        super().__init__()\n",
    "        \n",
    "        self.conv1 = conv_block(in_channels, 128)                             \n",
    "        self.conv2 = conv_block(128, 256, pool=True)                             \n",
    "        self.res1 = nn.Sequential(conv_block(256, 256), conv_block(256, 256))    \n",
    "        \n",
    "        self.conv3 = conv_block(256, 512, pool=True)                            \n",
    "        self.conv4 = conv_block(512, 1024, pool=True)                             \n",
    "        self.res2 = nn.Sequential(conv_block(1024, 1024), conv_block(1024, 1024)) \n",
    "\n",
    "        self.conv5 = conv_block(1024, 2048, pool=True)                           \n",
    "        self.conv6 = conv_block(2048, 4096, pool=True)                           \n",
    "        self.res3 = nn.Sequential(conv_block(4096, 4096), conv_block(4096, 4096))\n",
    "        \n",
    "        self.classifier = nn.Sequential(nn.MaxPool2d(4),                         \n",
    "                                        nn.Flatten(),                         \n",
    "                                        nn.Linear(9216, num_classes))        \n",
    "        \n",
    "    def forward(self, xb):\n",
    "        out = self.conv1(xb)\n",
    "        out = self.conv2(out)\n",
    "        out = self.res1(out) + out  \n",
    "        out = self.conv3(out)\n",
    "        out = self.conv4(out)\n",
    "        out = self.res2(out) + out    \n",
    "        out = self.classifier(out)\n",
    "        return out\n",
    "\n"
   ]
  },
  {
   "cell_type": "code",
   "execution_count": null,
   "metadata": {
    "id": "T_DLITnLdngU"
   },
   "outputs": [],
   "source": [
    "class ResNetCNN(ImageClassificationBase):\n",
    "    def __init__(self):\n",
    "        super().__init__()\n",
    "        self.network = models.resnet34(pretrained=True)     \n",
    "        num_ftrs = self.network.fc.in_features\n",
    "        self.network.fc = nn.Linear(num_ftrs, 131)        \n",
    "    \n",
    "    def forward(self, xb):\n",
    "        return torch.sigmoid(self.network(xb))\n",
    "    \n",
    "    def freeze(self):\n",
    "        for param in self.network.parameters():\n",
    "            param.require_grad = False\n",
    "        for param in self.network.fc.parameters():\n",
    "            param.require_grad = True\n",
    "    \n",
    "    def unfreeze(self):\n",
    "        for param in self.network.parameters():\n",
    "            param.require_grad = True"
   ]
  },
  {
   "cell_type": "code",
   "execution_count": null,
   "metadata": {
    "id": "WOKaJXjIeaqq"
   },
   "outputs": [],
   "source": [
    "@torch.no_grad()\n",
    "def evaluate(model, val_loader):\n",
    "    print('Evaluating Model ...')\n",
    "    model.eval()\n",
    "    outputs = [model.validation_step(batch) for batch in tqdm(val_loader)]\n",
    "    return model.validation_epoch_end(outputs)\n",
    "\n",
    "def get_lr(optimizer):\n",
    "    for param_group in optimizer.param_groups:\n",
    "        return param_group['lr']\n",
    "\n",
    "def fit_one_cycle(epochs, max_lr, model, train_loader, val_loader, \n",
    "                  weight_decay=0, grad_clip=None, opt_func=torch.optim.SGD):\n",
    "    torch.cuda.empty_cache()\n",
    "    history = []\n",
    "    optimizer = opt_func(model.parameters(), max_lr, weight_decay=weight_decay)\n",
    "    sched = torch.optim.lr_scheduler.OneCycleLR(optimizer, max_lr, epochs=epochs, \n",
    "                                                steps_per_epoch=len(train_loader))\n",
    "    \n",
    "    for epoch in range(epochs):\n",
    "\n",
    "        model.train()\n",
    "        train_losses = []\n",
    "        lrs = []\n",
    "        print('\\nModel training begins ...')\n",
    "        for batch in tqdm(train_loader):\n",
    "            loss = model.training_step(batch)\n",
    "            train_losses.append(loss)\n",
    "            loss.backward()\n",
    "\n",
    "            if grad_clip: \n",
    "                nn.utils.clip_grad_value_(model.parameters(), grad_clip)\n",
    "            \n",
    "            optimizer.step()\n",
    "            optimizer.zero_grad()\n",
    "            \n",
    "\n",
    "            lrs.append(get_lr(optimizer))\n",
    "            sched.step()\n",
    "\n",
    "        result = evaluate(model, val_loader)\n",
    "        result['train_loss'] = torch.stack(train_losses).mean().item()\n",
    "        result['lrs'] = lrs\n",
    "        model.epoch_end(epoch, result)\n",
    "        history.append(result)\n",
    "    return history"
   ]
  },
  {
   "cell_type": "code",
   "execution_count": null,
   "metadata": {
    "id": "WE5fwoIngGnY"
   },
   "outputs": [],
   "source": [
    "epochs = 10\n",
    "# epochs = 10\n",
    "max_lr = 1e-3\n",
    "grad_clip = 1e-1\n",
    "weight_decay = 1e-4\n",
    "opt_func = torch.optim.Adam"
   ]
  },
  {
   "cell_type": "code",
   "execution_count": null,
   "metadata": {
    "id": "bzjdHt_3ExZv"
   },
   "outputs": [],
   "source": [
    "from torch.utils.tensorboard import SummaryWriter\n",
    "writer=SummaryWriter('./logsdir')"
   ]
  },
  {
   "cell_type": "code",
   "execution_count": null,
   "metadata": {
    "id": "cM126uvQeouA"
   },
   "outputs": [],
   "source": [
    "input_channels = 3\n",
    "output_classes = 131 \n",
    "\n",
    "custom_model = to_device(CustomCNN(input_channels, output_classes), device)\n",
    "custom_model"
   ]
  },
  {
   "cell_type": "code",
   "execution_count": null,
   "metadata": {
    "id": "Mol9N5swfd-g"
   },
   "outputs": [],
   "source": [
    "history_CustomCNN = [evaluate(custom_model, valid_dl_custom)]\n",
    "history_CustomCNN"
   ]
  },
  {
   "cell_type": "code",
   "execution_count": null,
   "metadata": {
    "id": "pbZ3FgBegMOM"
   },
   "outputs": [],
   "source": [
    "%%time\n",
    "history_CustomCNN += fit_one_cycle(epochs, max_lr, custom_model, train_dl_custom, valid_dl_custom, \n",
    "                                  grad_clip=grad_clip, \n",
    "                                  weight_decay=weight_decay, \n",
    "                                  opt_func=opt_func)"
   ]
  },
  {
   "cell_type": "code",
   "execution_count": null,
   "metadata": {
    "id": "gyOQfR_Me8Pf"
   },
   "outputs": [],
   "source": [
    "resnet_model = to_device(ResNetCNN(), device)\n",
    "resnet_model"
   ]
  },
  {
   "cell_type": "code",
   "execution_count": null,
   "metadata": {
    "id": "mEd3KMszfkYh"
   },
   "outputs": [],
   "source": [
    "history_ResNetCNN = [evaluate(resnet_model, valid_dl_resnet)]\n",
    "history_ResNetCNN"
   ]
  },
  {
   "cell_type": "code",
   "execution_count": null,
   "metadata": {
    "id": "uefAeqi6gVK_"
   },
   "outputs": [],
   "source": [
    "resnet_model.freeze()"
   ]
  },
  {
   "cell_type": "code",
   "execution_count": null,
   "metadata": {
    "id": "L70tguS5gX2m"
   },
   "outputs": [],
   "source": [
    "%%time\n",
    "history_ResNetCNN += fit_one_cycle(5, 1e-2, resnet_model, train_dl_resnet, valid_dl_resnet, \n",
    "                                  grad_clip=grad_clip, \n",
    "                                  weight_decay=weight_decay, \n",
    "                                  opt_func=opt_func)"
   ]
  },
  {
   "cell_type": "markdown",
   "metadata": {
    "id": "UMGnXGP3SfqY"
   },
   "source": [
    "Now, unfreeze and train some more."
   ]
  },
  {
   "cell_type": "code",
   "execution_count": null,
   "metadata": {
    "id": "cnLSWotfgb7i"
   },
   "outputs": [],
   "source": [
    "resnet_model.unfreeze()"
   ]
  },
  {
   "cell_type": "code",
   "execution_count": null,
   "metadata": {
    "id": "tEi3PmlkgjV4"
   },
   "outputs": [],
   "source": [
    "%%time\n",
    "history_ResNetCNN += fit_one_cycle(5, 1e-3, resnet_model, train_dl_resnet, valid_dl_resnet, \n",
    "                                  grad_clip=grad_clip, \n",
    "                                  weight_decay=weight_decay, \n",
    "                                  opt_func=opt_func)"
   ]
  },
  {
   "cell_type": "markdown",
   "metadata": {
    "id": "-5R4ATk-pq2-"
   },
   "source": [
    "## 7. Training Results\n"
   ]
  },
  {
   "cell_type": "code",
   "execution_count": null,
   "metadata": {
    "id": "g51y13vqg0lJ"
   },
   "outputs": [],
   "source": [
    "def plot_accuracies(history, model_name):\n",
    "    accuracies = [x['val_acc'] for x in history]\n",
    "    plt.plot(accuracies, '-x')\n",
    "    plt.xlabel('epoch')\n",
    "    plt.ylabel('accuracy')\n",
    "    plt.title(model_name + ' - Accuracy vs. No. of epochs');\n",
    "\n",
    "def plot_losses(history, model_name):\n",
    "    train_losses = [x.get('train_loss') for x in history]\n",
    "    val_losses = [x['val_loss'] for x in history]\n",
    "    plt.plot(train_losses, '-bx')\n",
    "    plt.plot(val_losses, '-rx')\n",
    "    plt.xlabel('epoch')\n",
    "    plt.ylabel('loss')\n",
    "    plt.legend(['Training', 'Validation'])\n",
    "    plt.title(model_name + ' - Loss vs. No. of epochs');\n",
    "\n",
    "def plot_lrs(history, model_name):\n",
    "    lrs = np.concatenate([x.get('lrs', []) for x in history])\n",
    "    plt.plot(lrs)\n",
    "    plt.xlabel('Batch no.')\n",
    "    plt.ylabel('Learning rate')\n",
    "    plt.title(model_name + ' - Learning Rate vs. Batch no.');"
   ]
  },
  {
   "cell_type": "markdown",
   "metadata": {
    "id": "4Z-qQj2GpwDl"
   },
   "source": [
    "###  Training Results for Custom CNN Model\n",
    "\n",
    "\n"
   ]
  },
  {
   "cell_type": "code",
   "execution_count": null,
   "metadata": {
    "id": "TS2jO4UqhAHQ"
   },
   "outputs": [],
   "source": [
    "plot_accuracies(history_CustomCNN, 'Custom CNN Model')"
   ]
  },
  {
   "cell_type": "code",
   "execution_count": null,
   "metadata": {
    "id": "IBX6OnighCXL"
   },
   "outputs": [],
   "source": [
    "plot_losses(history_CustomCNN, 'Custom CNN Model')"
   ]
  },
  {
   "cell_type": "code",
   "execution_count": null,
   "metadata": {
    "id": "cuQGQZgLhEEe"
   },
   "outputs": [],
   "source": [
    "plot_lrs(history_CustomCNN, 'Custom CNN Model')"
   ]
  },
  {
   "cell_type": "markdown",
   "metadata": {
    "id": "SlbdPSYbp255"
   },
   "source": [
    "###  Training Results for ResNet CNN Model\n",
    "\n"
   ]
  },
  {
   "cell_type": "code",
   "execution_count": null,
   "metadata": {
    "id": "2IGQnBawh7at"
   },
   "outputs": [],
   "source": [
    "plot_accuracies(history_ResNetCNN, 'ResNet CNN Model')"
   ]
  },
  {
   "cell_type": "code",
   "execution_count": null,
   "metadata": {
    "id": "pKXU72N5h8oj"
   },
   "outputs": [],
   "source": [
    "plot_losses(history_ResNetCNN, 'ResNet CNN Model')"
   ]
  },
  {
   "cell_type": "code",
   "execution_count": null,
   "metadata": {
    "id": "rhl16yndh9r5"
   },
   "outputs": [],
   "source": [
    "plot_lrs(history_ResNetCNN, 'ResNet CNN Model')"
   ]
  },
  {
   "cell_type": "markdown",
   "metadata": {
    "id": "RTY-Z7nrp9oC"
   },
   "source": [
    "## Making Predictions "
   ]
  },
  {
   "cell_type": "code",
   "execution_count": null,
   "metadata": {
    "id": "NxOOVJNZiNcC"
   },
   "outputs": [],
   "source": [
    "def predict_image(img, model):\n",
    "    # Convert to a batch of 1\n",
    "    xb = to_device(img.unsqueeze(0), device)\n",
    "    # Get predictions from model\n",
    "    yb = model(xb)\n",
    "    # Pick index with highest probability\n",
    "    _, preds  = torch.max(yb, dim=1)\n",
    "    # Retrieve the class label\n",
    "    return valid_ds.classes[preds[0].item()]"
   ]
  },
  {
   "cell_type": "markdown",
   "metadata": {
    "id": "WreAUqTmiYir"
   },
   "source": [
    "### Predictions Custom CNN Model\n",
    "\n"
   ]
  },
  {
   "cell_type": "code",
   "execution_count": null,
   "metadata": {
    "id": "9ujvO7sjiRkn"
   },
   "outputs": [],
   "source": [
    "img, label = valid_ds[2569]\n",
    "plt.imshow(img.permute(1, 2, 0))\n",
    "print('Label:', valid_ds.classes[label], ', Predicted:', predict_image(img, custom_model))"
   ]
  },
  {
   "cell_type": "code",
   "execution_count": null,
   "metadata": {
    "id": "ewYA4ZQDkI-J"
   },
   "outputs": [],
   "source": [
    "img, label = valid_ds[9856]\n",
    "plt.imshow(img.permute(1, 2, 0))\n",
    "print('Label:', valid_ds.classes[label], ', Predicted:', predict_image(img, custom_model))"
   ]
  },
  {
   "cell_type": "code",
   "execution_count": null,
   "metadata": {
    "id": "w_lYJye9pqmV"
   },
   "outputs": [],
   "source": []
  }
 ],
 "metadata": {
  "accelerator": "GPU",
  "colab": {
   "collapsed_sections": [],
   "machine_shape": "hm",
   "name": "model",
   "provenance": []
  },
  "kernelspec": {
   "display_name": "Python 3",
   "language": "python",
   "name": "python3"
  },
  "language_info": {
   "codemirror_mode": {
    "name": "ipython",
    "version": 3
   },
   "file_extension": ".py",
   "mimetype": "text/x-python",
   "name": "python",
   "nbconvert_exporter": "python",
   "pygments_lexer": "ipython3",
   "version": "3.8.8"
  }
 },
 "nbformat": 4,
 "nbformat_minor": 1
}
